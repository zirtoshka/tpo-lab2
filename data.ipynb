{
 "cells": [
  {
   "cell_type": "code",
   "execution_count": null,
   "metadata": {},
   "outputs": [],
   "source": [
    "import csv\n",
    "from sympy import sec, N, sympify, cot, csc, tan\n",
    "\n",
    "# Открываем входной CSV\n",
    "with open(\"input.csv\", newline='') as infile, open(\"output.csv\", mode='w', newline='') as outfile:\n",
    "    reader = csv.reader(infile)\n",
    "    writer = csv.writer(outfile)\n",
    "    \n",
    "    # Заголовок\n",
    "    writer.writerow([\"x\", \"value\"])\n",
    "    next(reader)  # пропустить заголовок\n",
    "    \n",
    "    for row in reader:\n",
    "        if not row or not row[0].strip():\n",
    "            continue\n",
    "        try:\n",
    "            x_val = float(row[0])\n",
    "            x_sym = sympify(x_val)\n",
    "            sec_val = N(tan(x_sym), 15)  # численное значение с точностью\n",
    "            writer.writerow([x_val, sec_val])\n",
    "        except Exception as e:\n",
    "            writer.writerow([row[0], \"error\"])\n",
    "            print(f\"Ошибка для x = {row[0]}: {e}\")\n"
   ]
  },
  {
   "cell_type": "code",
   "execution_count": 8,
   "metadata": {},
   "outputs": [
    {
     "name": "stdout",
     "output_type": "stream",
     "text": [
      "Ошибка для x = -5.83: log2 undefined for x <= 0\n",
      "Ошибка для x = -5.82153: log2 undefined for x <= 0\n",
      "Ошибка для x = -5.81: log2 undefined for x <= 0\n",
      "Ошибка для x = -3.91936: log2 undefined for x <= 0\n",
      "Ошибка для x = -3.9: log2 undefined for x <= 0\n",
      "Ошибка для x = -3.93: log2 undefined for x <= 0\n",
      "Ошибка для x = -3.84936: log2 undefined for x <= 0\n",
      "Ошибка для x = -3.856: log2 undefined for x <= 0\n",
      "Ошибка для x = -3.848: log2 undefined for x <= 0\n",
      "Ошибка для x = -3.83947: log2 undefined for x <= 0\n",
      "Ошибка для x = -3.84: log2 undefined for x <= 0\n",
      "Ошибка для x = -3.839: log2 undefined for x <= 0\n",
      "Ошибка для x = -2.07218: log2 undefined for x <= 0\n",
      "Ошибка для x = -2.28184: log2 undefined for x <= 0\n",
      "Ошибка для x = -2: log2 undefined for x <= 0\n",
      "Ошибка для x = -1.5708: log2 undefined for x <= 0\n",
      "Ошибка для x = -1: log2 undefined for x <= 0\n",
      "Ошибка для x = -0.44865: log2 undefined for x <= 0\n",
      "Ошибка для x = -0.33146: log2 undefined for x <= 0\n"
     ]
    }
   ],
   "source": [
    "import csv\n",
    "from sympy import log, N, sympify\n",
    "\n",
    "with open(\"input.csv\", newline='') as infile, open(\"output.csv\", mode='w', newline='') as outfile:\n",
    "    reader = csv.reader(infile)\n",
    "    writer = csv.writer(outfile)\n",
    "\n",
    "    writer.writerow([\"x\", \"value\"])\n",
    "    next(reader)\n",
    "\n",
    "    for row in reader:\n",
    "        if not row or not row[0].strip():\n",
    "            continue\n",
    "        try:\n",
    "            x_val = float(row[0])\n",
    "            if x_val <= 0:\n",
    "                raise ValueError(\"log2 undefined for x <= 0\")\n",
    "            log2_val = N(log(sympify(x_val), 5), 15)\n",
    "            writer.writerow([x_val, log2_val])\n",
    "        except Exception as e:\n",
    "            writer.writerow([row[0], \"error\"])\n",
    "            print(f\"Ошибка для x = {row[0]}: {e}\")\n"
   ]
  }
 ],
 "metadata": {
  "kernelspec": {
   "display_name": "Python 3",
   "language": "python",
   "name": "python3"
  },
  "language_info": {
   "codemirror_mode": {
    "name": "ipython",
    "version": 3
   },
   "file_extension": ".py",
   "mimetype": "text/x-python",
   "name": "python",
   "nbconvert_exporter": "python",
   "pygments_lexer": "ipython3",
   "version": "3.10.5"
  }
 },
 "nbformat": 4,
 "nbformat_minor": 2
}
